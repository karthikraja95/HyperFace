{
  "nbformat": 4,
  "nbformat_minor": 0,
  "metadata": {
    "colab": {
      "name": "0000000Convert_Images_To_Dataset_LP.ipynb",
      "version": "0.3.2",
      "provenance": [],
      "collapsed_sections": []
    },
    "language_info": {
      "codemirror_mode": {
        "name": "ipython",
        "version": 3
      },
      "file_extension": ".py",
      "mimetype": "text/x-python",
      "name": "python",
      "nbconvert_exporter": "python",
      "pygments_lexer": "ipython3",
      "version": "3.7.1"
    },
    "kernelspec": {
      "display_name": "Python 3",
      "language": "python",
      "name": "python3"
    }
  },
  "cells": [
    {
      "metadata": {
        "id": "qqLQQA0qHsza",
        "colab_type": "code",
        "outputId": "705c87bb-034e-4168-8198-97b22c257737",
        "colab": {
          "base_uri": "https://localhost:8080/",
          "height": 54
        }
      },
      "cell_type": "code",
      "source": [
        "from google.colab import drive\n",
        "drive.mount('/content/gdrive')\n",
        "%cd /content/gdrive/My Drive/face_data/train2"
      ],
      "execution_count": 0,
      "outputs": [
        {
          "output_type": "stream",
          "text": [
            "Drive already mounted at /content/gdrive; to attempt to forcibly remount, call drive.mount(\"/content/gdrive\", force_remount=True).\n",
            "/content/gdrive/My Drive/face_data/train2\n"
          ],
          "name": "stdout"
        }
      ]
    },
    {
      "metadata": {
        "id": "CpTUTIH4Hwp1",
        "colab_type": "code",
        "outputId": "deb6479e-7eb5-4daa-e157-926d62fa9ca6",
        "colab": {
          "base_uri": "https://localhost:8080/",
          "height": 363
        }
      },
      "cell_type": "code",
      "source": [
        "!pip install selectivesearch\n",
        "import re\n",
        "import cv2\n",
        "import matplotlib.pyplot as plt\n",
        "import selectivesearch\n",
        "import scipy\n",
        "import numpy as np\n",
        "import matplotlib.patches as mpatches\n",
        "import math\n",
        "import glob\n",
        "import time\n",
        "import pdb\n",
        "import pickle"
      ],
      "execution_count": 0,
      "outputs": [
        {
          "output_type": "stream",
          "text": [
            "Requirement already satisfied: selectivesearch in /usr/local/lib/python3.6/dist-packages (0.4)\n",
            "Requirement already satisfied: scikit-image in /usr/local/lib/python3.6/dist-packages (from selectivesearch) (0.14.2)\n",
            "Requirement already satisfied: numpy in /usr/local/lib/python3.6/dist-packages (from selectivesearch) (1.16.3)\n",
            "Requirement already satisfied: PyWavelets>=0.4.0 in /usr/local/lib/python3.6/dist-packages (from scikit-image->selectivesearch) (1.0.3)\n",
            "Requirement already satisfied: networkx>=1.8 in /usr/local/lib/python3.6/dist-packages (from scikit-image->selectivesearch) (2.3)\n",
            "Requirement already satisfied: dask[array]>=1.0.0 in /usr/local/lib/python3.6/dist-packages (from scikit-image->selectivesearch) (1.1.5)\n",
            "Requirement already satisfied: matplotlib>=2.0.0 in /usr/local/lib/python3.6/dist-packages (from scikit-image->selectivesearch) (3.0.3)\n",
            "Requirement already satisfied: cloudpickle>=0.2.1 in /usr/local/lib/python3.6/dist-packages (from scikit-image->selectivesearch) (0.6.1)\n",
            "Requirement already satisfied: pillow>=4.3.0 in /usr/local/lib/python3.6/dist-packages (from scikit-image->selectivesearch) (4.3.0)\n",
            "Requirement already satisfied: scipy>=0.17.0 in /usr/local/lib/python3.6/dist-packages (from scikit-image->selectivesearch) (1.2.1)\n",
            "Requirement already satisfied: six>=1.10.0 in /usr/local/lib/python3.6/dist-packages (from scikit-image->selectivesearch) (1.12.0)\n",
            "Requirement already satisfied: decorator>=4.3.0 in /usr/local/lib/python3.6/dist-packages (from networkx>=1.8->scikit-image->selectivesearch) (4.4.0)\n",
            "Requirement already satisfied: toolz>=0.7.3; extra == \"array\" in /usr/local/lib/python3.6/dist-packages (from dask[array]>=1.0.0->scikit-image->selectivesearch) (0.9.0)\n",
            "Requirement already satisfied: cycler>=0.10 in /usr/local/lib/python3.6/dist-packages (from matplotlib>=2.0.0->scikit-image->selectivesearch) (0.10.0)\n",
            "Requirement already satisfied: python-dateutil>=2.1 in /usr/local/lib/python3.6/dist-packages (from matplotlib>=2.0.0->scikit-image->selectivesearch) (2.5.3)\n",
            "Requirement already satisfied: pyparsing!=2.0.4,!=2.1.2,!=2.1.6,>=2.0.1 in /usr/local/lib/python3.6/dist-packages (from matplotlib>=2.0.0->scikit-image->selectivesearch) (2.4.0)\n",
            "Requirement already satisfied: kiwisolver>=1.0.1 in /usr/local/lib/python3.6/dist-packages (from matplotlib>=2.0.0->scikit-image->selectivesearch) (1.0.1)\n",
            "Requirement already satisfied: olefile in /usr/local/lib/python3.6/dist-packages (from pillow>=4.3.0->scikit-image->selectivesearch) (0.46)\n",
            "Requirement already satisfied: setuptools in /usr/local/lib/python3.6/dist-packages (from kiwisolver>=1.0.1->matplotlib>=2.0.0->scikit-image->selectivesearch) (40.9.0)\n"
          ],
          "name": "stdout"
        }
      ]
    },
    {
      "metadata": {
        "id": "d2NeAmaPFkuY",
        "colab_type": "code",
        "colab": {}
      },
      "cell_type": "code",
      "source": [
        "def Find_Image_Points(filename):\n",
        "    img_var = filename[:-4]\n",
        "    f = open(str(img_var)+'.pts',\"r\")\n",
        "\n",
        "    points = []\n",
        "\n",
        "    for i,line in enumerate(f):\n",
        "        if 2<i<71:\n",
        "            points.append(line)\n",
        "    x = []\n",
        "    y = []\n",
        "\n",
        "    for i in range(0,len(points)):\n",
        "        points[i] = re.sub(r\"\\n\",\"\",points[i])\n",
        "        points[i] = points[i].replace(\"'\",\"\")\n",
        "        temp_x, temp_y = points[i].split()\n",
        "        x.append(int(float(temp_x)))\n",
        "        y.append(int(float(temp_y)))\n",
        "    \n",
        "    return x,y"
      ],
      "execution_count": 0,
      "outputs": []
    },
    {
      "metadata": {
        "id": "y6JISsmvFkub",
        "colab_type": "code",
        "colab": {}
      },
      "cell_type": "code",
      "source": [
        "def Scale_Image_And_Points(image,x,y):\n",
        "    h_ratio = 227/image.shape[0]\n",
        "    w_ratio = 227/image.shape[1]\n",
        "    for i in range(0,len(x)):\n",
        "        x[i] = int(x[i]*w_ratio)\n",
        "        y[i] = int(y[i]*h_ratio)\n",
        "    image = image/255\n",
        "    image = scipy.misc.imresize(image, (227, 227))\n",
        "    for i in range(0,len(x)):\n",
        "        x[i] = x[i]/image.shape[1]\n",
        "        y[i] = y[i]/image.shape[0]\n",
        "    landmarks = y+x\n",
        "    return image,landmarks"
      ],
      "execution_count": 0,
      "outputs": []
    },
    {
      "metadata": {
        "id": "zoXre_BoFkue",
        "colab_type": "code",
        "colab": {}
      },
      "cell_type": "code",
      "source": [
        "def Calculate_Pose_Estimation(image,x,y):\n",
        "    im_size = image.shape\n",
        "    image_points = np.array([\n",
        "        (x[30], y[30]),\n",
        "        (x[8], y[8]),\n",
        "        (x[36], y[36]),\n",
        "        (x[45],y[45]),\n",
        "        (x[48], y[48]),\n",
        "        (x[54],y[54])\n",
        "    ], dtype = \"double\")\n",
        "\n",
        "    model_points = np.array([\n",
        "                            (0.0, 0.0, 0.0),             # Nose tip\n",
        "                            (0.0, -330.0, -65.0),        # Chin\n",
        "                            (-225.0, 170.0, -135.0),     # Left eye left corner\n",
        "                            (225.0, 170.0, -135.0),      # Right eye right corne\n",
        "                            (-150.0, -150.0, -125.0),    # Left Mouth corner\n",
        "                            (150.0, -150.0, -125.0)      # Right mouth corner\n",
        "\n",
        "                        ])\n",
        "\n",
        "    #Camera Internals\n",
        "    focal_length = im_size[1]\n",
        "    center = (im_size[1]/2, im_size[0]/2)\n",
        "    camera_matrix = np.array(\n",
        "                         [[focal_length, 0, center[0]],\n",
        "                         [0, focal_length, center[1]],\n",
        "                         [0, 0, 1]], dtype = \"double\"\n",
        "                         )\n",
        "\n",
        "    #print (\"Camera Matrix :\\n {0}\".format(camera_matrix))\n",
        "\n",
        "    dist_coeffs = np.zeros((4,1)) # Assuming no lens distortion\n",
        "    (success, rotation_vector, translation_vector) = cv2.solvePnP(model_points, image_points, camera_matrix, dist_coeffs)\n",
        "\n",
        "    #print (\"Rotation Vector:\\n {0}\".format(rotation_vector))\n",
        "    #print (\"Translation Vector:\\n {0}\".format(translation_vector))\n",
        "\n",
        "    # Project a 3D point (0, 0, 1000.0) onto the image plane.\n",
        "    # We use this to draw a line sticking out of the nose\n",
        "    axis = np.float32([[500,0,0], \n",
        "                              [0,500,0], \n",
        "                              [0,0,500]])\n",
        "\n",
        "    imgpts, jac = cv2.projectPoints(axis, rotation_vector, translation_vector, camera_matrix, dist_coeffs)\n",
        "    modelpts, jac2 = cv2.projectPoints(model_points, rotation_vector, translation_vector, camera_matrix, dist_coeffs)\n",
        "    rvec_matrix = cv2.Rodrigues(rotation_vector)[0]\n",
        "\n",
        "    proj_matrix = np.hstack((rvec_matrix, translation_vector))\n",
        "    eulerAngles = cv2.decomposeProjectionMatrix(proj_matrix)[6] \n",
        "\n",
        "\n",
        "    pitch, yaw, roll = [math.radians(_) for _ in eulerAngles]\n",
        "\n",
        "\n",
        "    pitch = math.degrees(math.asin(math.sin(pitch)))\n",
        "    roll = -math.degrees(math.asin(math.sin(roll)))\n",
        "    yaw = math.degrees(math.asin(math.sin(yaw)))\n",
        "    \n",
        "    pose = np.array([roll,pitch,yaw])\n",
        "    \n",
        "    return pose"
      ],
      "execution_count": 0,
      "outputs": []
    },
    {
      "metadata": {
        "id": "N_sEfqBCFkuh",
        "colab_type": "code",
        "colab": {}
      },
      "cell_type": "code",
      "source": [
        "def selective_search(img, plot_image = False):\n",
        "    img_lbl, regions = selectivesearch.selective_search(img, scale=200, sigma=0.9, min_size=100)\n",
        "    candidates = set()\n",
        "    for r in regions:\n",
        "        x, y, w, h = r['rect']\n",
        "        candidates.add(r['rect'])\n",
        "    if plot_image:\n",
        "        fig, ax = plt.subplots(ncols=1, nrows=1, figsize=(6, 6))\n",
        "        ax.imshow(img)\n",
        "        for x, y, w, h in candidates:\n",
        "            rect = mpatches.Rectangle((x, y), w, h, fill=False, edgecolor='red', linewidth=3)\n",
        "            ax.add_patch(rect)\n",
        "        plt.show()\n",
        "    return candidates"
      ],
      "execution_count": 0,
      "outputs": []
    },
    {
      "metadata": {
        "id": "Ws-RpW1xFkuk",
        "colab_type": "code",
        "colab": {}
      },
      "cell_type": "code",
      "source": [
        "def intersection_over_union(boxA, boxB):\n",
        "    xA = max(boxA[0], boxB[0])\n",
        "    yA = max(boxA[1], boxB[1])\n",
        "    xB = min(boxA[2], boxB[2])\n",
        "    yB = min(boxA[3], boxB[3])\n",
        "    interArea = max(0, xB - xA + 1) * max(0, yB - yA + 1)\n",
        "    boxAArea = (boxA[2] - boxA[0] + 1) * (boxA[3] - boxA[1] + 1)\n",
        "    boxBArea = (boxB[2] - boxB[0] + 1) * (boxB[3] - boxB[1] + 1)\n",
        "    if interArea == boxAArea & boxAArea != boxBArea:\n",
        "        iou = 0.0\n",
        "    else:\n",
        "        iou = interArea / float(boxAArea + boxBArea - interArea)\n",
        "    return iou"
      ],
      "execution_count": 0,
      "outputs": []
    },
    {
      "metadata": {
        "id": "evAJHkMdFkun",
        "colab_type": "code",
        "colab": {}
      },
      "cell_type": "code",
      "source": [
        "def get_xy(box):\n",
        "    x,y,w,h = box\n",
        "    x_top_left = x\n",
        "    y_top_left = y\n",
        "    x_right_bottom = x_top_left + w\n",
        "    y_right_bottom = y_top_left + h\n",
        "    return [x_top_left, y_top_left, x_right_bottom, y_right_bottom]"
      ],
      "execution_count": 0,
      "outputs": []
    },
    {
      "metadata": {
        "id": "VHE_-nFZFkuq",
        "colab_type": "code",
        "colab": {}
      },
      "cell_type": "code",
      "source": [
        "def region_of_proposals(image,x,y,pose):\n",
        "    candidates = selective_search(image, False)   \n",
        "    #selected_regions = list()\n",
        "    #unselected_regions = list()\n",
        "    boxA = [x[0]-20, y[24]-20,x[16]+10, y[8]+10]\n",
        "    final_array = np.empty((1,4))\n",
        "    for candidate in candidates:\n",
        "        boxB = get_xy(candidate)\n",
        "        iou = intersection_over_union(boxA, boxB)\n",
        "        if iou >= 0.5:\n",
        "            temp_x = []\n",
        "            temp_y = []\n",
        "            for i in range(0,len(x)):\n",
        "                temp_x.append(x[i]-candidate[0])\n",
        "                temp_y.append(y[i]-candidate[1])\n",
        "            candidate_image = image[candidate[1]:candidate[1]+candidate[3], candidate[0]:candidate[0]+candidate[2],:]\n",
        "            scaled_image,landmarks= Scale_Image_And_Points(candidate_image,temp_x,temp_y)\n",
        "            face = np.array([1])\n",
        "            temp_array = np.array([scaled_image,face,landmarks,pose])\n",
        "            final_array = np.append(final_array,temp_array.reshape(1,temp_array.shape[0]),axis=0)\n",
        "        elif 0.1<iou<= 0.11:\n",
        "            temp_x = []\n",
        "            temp_y = []\n",
        "            for i in range(0,len(x)):\n",
        "                temp_x.append(x[i]-candidate[0])\n",
        "                temp_y.append(y[i]-candidate[1])\n",
        "            candidate_image = image[candidate[1]:candidate[1]+candidate[3], candidate[0]:candidate[0]+candidate[2],:]\n",
        "            scaled_image,landmarks = Scale_Image_And_Points(candidate_image,temp_x,temp_y)\n",
        "            face_nil = np.array([0])\n",
        "            #pose_nil = np.array([0,0,0])\n",
        "            temp_array = np.array([scaled_image,face_nil,landmarks,pose])\n",
        "            final_array = np.append(final_array,temp_array.reshape(1,temp_array.shape[0]),axis=0)\n",
        "    # resize according to alexnet input and return selected regions\n",
        "    #image = image / 255\n",
        "    final_array = np.delete(final_array,(0),axis=0)\n",
        "    return final_array"
      ],
      "execution_count": 0,
      "outputs": []
    },
    {
      "metadata": {
        "id": "YxxG3PRTkl3H",
        "colab_type": "code",
        "outputId": "cd2dc28f-a9ad-4501-9c12-1296b427c32c",
        "colab": {
          "base_uri": "https://localhost:8080/",
          "height": 161
        }
      },
      "cell_type": "code",
      "source": [
        "count_im = 0\n",
        "dataset = np.empty((1,4))\n",
        "face = np.array([1])\n",
        "for filename in glob.glob('*.jpg'):\n",
        "    count_im += 1\n",
        "    #Opening the Points File for image=filename\n",
        "    x,y = Find_Image_Points(filename)\n",
        "\n",
        "    #Fetching the image for the filename\n",
        "    image = cv2.imread(filename)\n",
        "    \n",
        "    #Calculating the roll,pictch, yaw for the image\n",
        "    pose = Calculate_Pose_Estimation(image,x,y)\n",
        "    \n",
        "    a=max(0,y[24]-30)\n",
        "    b=min(image.shape[0],y[8]+20)\n",
        "    c=max(0, x[0]-30)\n",
        "    d=min(image.shape[1], x[16]+30)\n",
        "    boxA = image[a:b, c:d]\n",
        "    \n",
        "    for i in range(0,len(x)):\n",
        "        x[i] = x[i]-c\n",
        "        y[i] = y[i]-a\n",
        "    scaled_image, landmarks = Scale_Image_And_Points( boxA, x, y)\n",
        "    data=np.array([scaled_image, face, landmarks, pose])\n",
        "    data=data.reshape(1,data.shape[0])\n",
        "    dataset=np.append(dataset, data, axis=0)\n",
        "    \n",
        "    if dataset.shape[0]==100:\n",
        "        dataset = np.delete(dataset,(0),axis=0)\n",
        "        print(\"saving:\",count_im)\n",
        "        np.save(F\"/content/gdrive/My Drive/face_data/npyfileslp/train2\"+str(count_im)+\".npy\",dataset)\n",
        "        del dataset\n",
        "        dataset = np.empty((1,4))\n",
        "        "
      ],
      "execution_count": 0,
      "outputs": [
        {
          "output_type": "stream",
          "text": [
            "/usr/local/lib/python3.6/dist-packages/ipykernel_launcher.py:8: DeprecationWarning: `imresize` is deprecated!\n",
            "`imresize` is deprecated in SciPy 1.0.0, and will be removed in 1.3.0.\n",
            "Use Pillow instead: ``numpy.array(Image.fromarray(arr).resize())``.\n",
            "  \n"
          ],
          "name": "stderr"
        },
        {
          "output_type": "stream",
          "text": [
            "saving: 99\n",
            "saving: 198\n",
            "saving: 297\n",
            "saving: 396\n"
          ],
          "name": "stdout"
        }
      ]
    },
    {
      "metadata": {
        "id": "xT17FscrFkvJ",
        "colab_type": "code",
        "outputId": "3b18e6df-9aea-4eff-a4b5-8054b1a79ccf",
        "colab": {
          "base_uri": "https://localhost:8080/",
          "height": 35
        }
      },
      "cell_type": "code",
      "source": [
        "%cd /content/gdrive/My Drive/face_data/npyfileslp\n"
      ],
      "execution_count": 0,
      "outputs": [
        {
          "output_type": "stream",
          "text": [
            "/content/gdrive/My Drive/face_data/npyfileslp\n"
          ],
          "name": "stdout"
        }
      ]
    },
    {
      "metadata": {
        "id": "M0OKsgsSoKFM",
        "colab_type": "code",
        "outputId": "ddaa711d-5ee3-428d-f49a-bb6e92ca0f5c",
        "colab": {
          "base_uri": "https://localhost:8080/",
          "height": 199
        }
      },
      "cell_type": "code",
      "source": [
        "%ls"
      ],
      "execution_count": 0,
      "outputs": [
        {
          "output_type": "stream",
          "text": [
            "helenlp1089.npy  helenlp198.npy  helenlphelentest198.npy  ifpwlp99.npy\n",
            "helenlp1188.npy  helenlp297.npy  helenlphelentest297.npy  ifpwlptest198.npy\n",
            "helenlp1287.npy  helenlp396.npy  helenlphelentest99.npy   ifpwlptest99.npy\n",
            "helenlp1386.npy  helenlp495.npy  ifpwlp198.npy            train2198.npy\n",
            "helenlp1485.npy  helenlp594.npy  ifpwlp297.npy            train2297.npy\n",
            "helenlp1584.npy  helenlp693.npy  ifpwlp396.npy            train2396.npy\n",
            "helenlp1683.npy  helenlp792.npy  ifpwlp495.npy            train299.npy\n",
            "helenlp1782.npy  helenlp891.npy  ifpwlp594.npy\n",
            "helenlp1881.npy  helenlp990.npy  ifpwlp693.npy\n",
            "helenlp1980.npy  helenlp99.npy   ifpwlp792.npy\n"
          ],
          "name": "stdout"
        }
      ]
    },
    {
      "metadata": {
        "id": "PiRVgImyoNff",
        "colab_type": "code",
        "colab": {}
      },
      "cell_type": "code",
      "source": [
        "a1 = np.load('ifpwlptest99.npy' , allow_pickle=True)\n",
        "a2 = np.load('ifpwlptest198.npy', allow_pickle=True)\n",
        "a3 = np.load('train299.npy', allow_pickle=True)\n",
        "a4 = np.load('ifpwlp693.npy', allow_pickle=True)\n",
        "a5 = np.load('ifpwlp792.npy', allow_pickle=True)\n",
        "a6 = np.load('train2198.npy', allow_pickle=True)\n",
        "a7 = np.load('train2297.npy', allow_pickle=True)\n",
        "a8 = np.load('train2396.npy', allow_pickle=True)\n",
        "a9 = np.load('helenlp693.npy', allow_pickle=True)\n",
        "a10 = np.load('helenlp1881.npy', allow_pickle=True)"
      ],
      "execution_count": 0,
      "outputs": []
    },
    {
      "metadata": {
        "id": "v8PaAk59o1a0",
        "colab_type": "code",
        "colab": {}
      },
      "cell_type": "code",
      "source": [
        "a =np.concatenate((a1, a2, a3, a4, a5, a6, a7, a8, a9, a10), axis=0)"
      ],
      "execution_count": 0,
      "outputs": []
    },
    {
      "metadata": {
        "id": "z1RNYwRVpS60",
        "colab_type": "code",
        "colab": {}
      },
      "cell_type": "code",
      "source": [
        "np.save('lp4000.npy',a)"
      ],
      "execution_count": 0,
      "outputs": []
    },
    {
      "metadata": {
        "id": "8p6RkFqJpvXp",
        "colab_type": "code",
        "colab": {}
      },
      "cell_type": "code",
      "source": [
        ""
      ],
      "execution_count": 0,
      "outputs": []
    }
  ]
}